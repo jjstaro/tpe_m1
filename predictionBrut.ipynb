{
 "cells": [
  {
   "cell_type": "code",
   "execution_count": 2,
   "metadata": {},
   "outputs": [],
   "source": [
    "import pandas as pd\n",
    "import seaborn as sns\n",
    "import statsmodels.api as sm\n",
    "import matplotlib.pyplot as plt\n",
    "import numpy as np\n",
    "from patsy import dmatrices\n",
    "from matplotlib import pyplot\n",
    "import sklearn\n",
    "from sklearn.model_selection import train_test_split\n",
    "from sklearn.linear_model import LogisticRegression\n"
   ]
  },
  {
   "cell_type": "code",
   "execution_count": 3,
   "metadata": {},
   "outputs": [],
   "source": [
    "#Chargement des données \n",
    "dataBoursier=pd.read_csv(\"data/ES=F.csv\")\n",
    "#dataPetrole=pd.read_csv(\"data/CL=F.csv\")\n",
    "#dataOr=pd.read_csv(\"data/GC=F.csv\")"
   ]
  },
  {
   "cell_type": "code",
   "execution_count": 4,
   "metadata": {},
   "outputs": [
    {
     "data": {
      "text/html": [
       "<div>\n",
       "<style scoped>\n",
       "    .dataframe tbody tr th:only-of-type {\n",
       "        vertical-align: middle;\n",
       "    }\n",
       "\n",
       "    .dataframe tbody tr th {\n",
       "        vertical-align: top;\n",
       "    }\n",
       "\n",
       "    .dataframe thead th {\n",
       "        text-align: right;\n",
       "    }\n",
       "</style>\n",
       "<table border=\"1\" class=\"dataframe\">\n",
       "  <thead>\n",
       "    <tr style=\"text-align: right;\">\n",
       "      <th></th>\n",
       "      <th>Date</th>\n",
       "      <th>Open</th>\n",
       "      <th>High</th>\n",
       "      <th>Low</th>\n",
       "      <th>Close</th>\n",
       "      <th>Adj.Close</th>\n",
       "      <th>Volume</th>\n",
       "    </tr>\n",
       "  </thead>\n",
       "  <tbody>\n",
       "    <tr>\n",
       "      <td>0</td>\n",
       "      <td>2016-12-01</td>\n",
       "      <td>2199.50</td>\n",
       "      <td>2203.00</td>\n",
       "      <td>2186.00</td>\n",
       "      <td>2192.00</td>\n",
       "      <td>2192.00</td>\n",
       "      <td>1960189.0</td>\n",
       "    </tr>\n",
       "    <tr>\n",
       "      <td>1</td>\n",
       "      <td>2016-12-02</td>\n",
       "      <td>2190.50</td>\n",
       "      <td>2197.25</td>\n",
       "      <td>2184.25</td>\n",
       "      <td>2192.00</td>\n",
       "      <td>2192.00</td>\n",
       "      <td>2148721.0</td>\n",
       "    </tr>\n",
       "    <tr>\n",
       "      <td>2</td>\n",
       "      <td>2016-12-04</td>\n",
       "      <td>NaN</td>\n",
       "      <td>NaN</td>\n",
       "      <td>NaN</td>\n",
       "      <td>NaN</td>\n",
       "      <td>NaN</td>\n",
       "      <td>NaN</td>\n",
       "    </tr>\n",
       "    <tr>\n",
       "      <td>3</td>\n",
       "      <td>2016-12-05</td>\n",
       "      <td>2184.00</td>\n",
       "      <td>2208.75</td>\n",
       "      <td>2179.00</td>\n",
       "      <td>2204.25</td>\n",
       "      <td>2204.25</td>\n",
       "      <td>1682042.0</td>\n",
       "    </tr>\n",
       "    <tr>\n",
       "      <td>4</td>\n",
       "      <td>2016-12-06</td>\n",
       "      <td>2205.00</td>\n",
       "      <td>2212.00</td>\n",
       "      <td>2200.25</td>\n",
       "      <td>2210.00</td>\n",
       "      <td>2210.00</td>\n",
       "      <td>1663731.0</td>\n",
       "    </tr>\n",
       "    <tr>\n",
       "      <td>...</td>\n",
       "      <td>...</td>\n",
       "      <td>...</td>\n",
       "      <td>...</td>\n",
       "      <td>...</td>\n",
       "      <td>...</td>\n",
       "      <td>...</td>\n",
       "      <td>...</td>\n",
       "    </tr>\n",
       "    <tr>\n",
       "      <td>323</td>\n",
       "      <td>2017-12-24</td>\n",
       "      <td>NaN</td>\n",
       "      <td>NaN</td>\n",
       "      <td>NaN</td>\n",
       "      <td>NaN</td>\n",
       "      <td>NaN</td>\n",
       "      <td>NaN</td>\n",
       "    </tr>\n",
       "    <tr>\n",
       "      <td>324</td>\n",
       "      <td>2017-12-26</td>\n",
       "      <td>2686.75</td>\n",
       "      <td>2689.50</td>\n",
       "      <td>2683.50</td>\n",
       "      <td>2687.00</td>\n",
       "      <td>2687.00</td>\n",
       "      <td>360430.0</td>\n",
       "    </tr>\n",
       "    <tr>\n",
       "      <td>325</td>\n",
       "      <td>2017-12-27</td>\n",
       "      <td>2687.50</td>\n",
       "      <td>2691.00</td>\n",
       "      <td>2681.50</td>\n",
       "      <td>2685.50</td>\n",
       "      <td>2685.50</td>\n",
       "      <td>376101.0</td>\n",
       "    </tr>\n",
       "    <tr>\n",
       "      <td>326</td>\n",
       "      <td>2017-12-28</td>\n",
       "      <td>2684.00</td>\n",
       "      <td>2689.00</td>\n",
       "      <td>2683.00</td>\n",
       "      <td>2685.75</td>\n",
       "      <td>2685.75</td>\n",
       "      <td>666329.0</td>\n",
       "    </tr>\n",
       "    <tr>\n",
       "      <td>327</td>\n",
       "      <td>2017-12-29</td>\n",
       "      <td>2684.75</td>\n",
       "      <td>2698.25</td>\n",
       "      <td>2667.75</td>\n",
       "      <td>2676.00</td>\n",
       "      <td>2676.00</td>\n",
       "      <td>535624.0</td>\n",
       "    </tr>\n",
       "  </tbody>\n",
       "</table>\n",
       "<p>328 rows × 7 columns</p>\n",
       "</div>"
      ],
      "text/plain": [
       "           Date     Open     High      Low    Close  Adj.Close     Volume\n",
       "0    2016-12-01  2199.50  2203.00  2186.00  2192.00    2192.00  1960189.0\n",
       "1    2016-12-02  2190.50  2197.25  2184.25  2192.00    2192.00  2148721.0\n",
       "2    2016-12-04      NaN      NaN      NaN      NaN        NaN        NaN\n",
       "3    2016-12-05  2184.00  2208.75  2179.00  2204.25    2204.25  1682042.0\n",
       "4    2016-12-06  2205.00  2212.00  2200.25  2210.00    2210.00  1663731.0\n",
       "..          ...      ...      ...      ...      ...        ...        ...\n",
       "323  2017-12-24      NaN      NaN      NaN      NaN        NaN        NaN\n",
       "324  2017-12-26  2686.75  2689.50  2683.50  2687.00    2687.00   360430.0\n",
       "325  2017-12-27  2687.50  2691.00  2681.50  2685.50    2685.50   376101.0\n",
       "326  2017-12-28  2684.00  2689.00  2683.00  2685.75    2685.75   666329.0\n",
       "327  2017-12-29  2684.75  2698.25  2667.75  2676.00    2676.00   535624.0\n",
       "\n",
       "[328 rows x 7 columns]"
      ]
     },
     "execution_count": 4,
     "metadata": {},
     "output_type": "execute_result"
    }
   ],
   "source": [
    "#ind=pd.date_range('12/01/2016', periods=2)\n",
    "\n",
    "#dataBoursier.Index=ind\n",
    "#dataBoursier\n",
    "\n",
    "#dataBoursier=pd.DataFrame(dataBoursier,index=ind, columns=['Open'=dataBoursier['Open'], 'High', 'Low','Close','Adj.Close','Volume'])\n",
    "dataBoursier.reset_index(drop=True)\n",
    "#del dataBoursier['index']\n",
    "dataBoursier"
   ]
  },
  {
   "cell_type": "code",
   "execution_count": 5,
   "metadata": {},
   "outputs": [
    {
     "data": {
      "text/html": [
       "<div>\n",
       "<style scoped>\n",
       "    .dataframe tbody tr th:only-of-type {\n",
       "        vertical-align: middle;\n",
       "    }\n",
       "\n",
       "    .dataframe tbody tr th {\n",
       "        vertical-align: top;\n",
       "    }\n",
       "\n",
       "    .dataframe thead th {\n",
       "        text-align: right;\n",
       "    }\n",
       "</style>\n",
       "<table border=\"1\" class=\"dataframe\">\n",
       "  <thead>\n",
       "    <tr style=\"text-align: right;\">\n",
       "      <th></th>\n",
       "      <th>Date</th>\n",
       "      <th>Open</th>\n",
       "      <th>High</th>\n",
       "      <th>Low</th>\n",
       "      <th>Close</th>\n",
       "      <th>Adj.Close</th>\n",
       "      <th>Volume</th>\n",
       "    </tr>\n",
       "  </thead>\n",
       "  <tbody>\n",
       "    <tr>\n",
       "      <td>0</td>\n",
       "      <td>2016-12-01</td>\n",
       "      <td>2199.50</td>\n",
       "      <td>2203.00</td>\n",
       "      <td>2186.00</td>\n",
       "      <td>2192.00</td>\n",
       "      <td>2192.00</td>\n",
       "      <td>1960189.0</td>\n",
       "    </tr>\n",
       "    <tr>\n",
       "      <td>1</td>\n",
       "      <td>2016-12-02</td>\n",
       "      <td>2190.50</td>\n",
       "      <td>2197.25</td>\n",
       "      <td>2184.25</td>\n",
       "      <td>2192.00</td>\n",
       "      <td>2192.00</td>\n",
       "      <td>2148721.0</td>\n",
       "    </tr>\n",
       "    <tr>\n",
       "      <td>2</td>\n",
       "      <td>2016-12-04</td>\n",
       "      <td>NaN</td>\n",
       "      <td>NaN</td>\n",
       "      <td>NaN</td>\n",
       "      <td>NaN</td>\n",
       "      <td>NaN</td>\n",
       "      <td>NaN</td>\n",
       "    </tr>\n",
       "    <tr>\n",
       "      <td>3</td>\n",
       "      <td>2016-12-05</td>\n",
       "      <td>2184.00</td>\n",
       "      <td>2208.75</td>\n",
       "      <td>2179.00</td>\n",
       "      <td>2204.25</td>\n",
       "      <td>2204.25</td>\n",
       "      <td>1682042.0</td>\n",
       "    </tr>\n",
       "    <tr>\n",
       "      <td>4</td>\n",
       "      <td>2016-12-06</td>\n",
       "      <td>2205.00</td>\n",
       "      <td>2212.00</td>\n",
       "      <td>2200.25</td>\n",
       "      <td>2210.00</td>\n",
       "      <td>2210.00</td>\n",
       "      <td>1663731.0</td>\n",
       "    </tr>\n",
       "    <tr>\n",
       "      <td>...</td>\n",
       "      <td>...</td>\n",
       "      <td>...</td>\n",
       "      <td>...</td>\n",
       "      <td>...</td>\n",
       "      <td>...</td>\n",
       "      <td>...</td>\n",
       "      <td>...</td>\n",
       "    </tr>\n",
       "    <tr>\n",
       "      <td>323</td>\n",
       "      <td>2017-12-24</td>\n",
       "      <td>NaN</td>\n",
       "      <td>NaN</td>\n",
       "      <td>NaN</td>\n",
       "      <td>NaN</td>\n",
       "      <td>NaN</td>\n",
       "      <td>NaN</td>\n",
       "    </tr>\n",
       "    <tr>\n",
       "      <td>324</td>\n",
       "      <td>2017-12-26</td>\n",
       "      <td>2686.75</td>\n",
       "      <td>2689.50</td>\n",
       "      <td>2683.50</td>\n",
       "      <td>2687.00</td>\n",
       "      <td>2687.00</td>\n",
       "      <td>360430.0</td>\n",
       "    </tr>\n",
       "    <tr>\n",
       "      <td>325</td>\n",
       "      <td>2017-12-27</td>\n",
       "      <td>2687.50</td>\n",
       "      <td>2691.00</td>\n",
       "      <td>2681.50</td>\n",
       "      <td>2685.50</td>\n",
       "      <td>2685.50</td>\n",
       "      <td>376101.0</td>\n",
       "    </tr>\n",
       "    <tr>\n",
       "      <td>326</td>\n",
       "      <td>2017-12-28</td>\n",
       "      <td>2684.00</td>\n",
       "      <td>2689.00</td>\n",
       "      <td>2683.00</td>\n",
       "      <td>2685.75</td>\n",
       "      <td>2685.75</td>\n",
       "      <td>666329.0</td>\n",
       "    </tr>\n",
       "    <tr>\n",
       "      <td>327</td>\n",
       "      <td>2017-12-29</td>\n",
       "      <td>2684.75</td>\n",
       "      <td>2698.25</td>\n",
       "      <td>2667.75</td>\n",
       "      <td>2676.00</td>\n",
       "      <td>2676.00</td>\n",
       "      <td>535624.0</td>\n",
       "    </tr>\n",
       "  </tbody>\n",
       "</table>\n",
       "<p>328 rows × 7 columns</p>\n",
       "</div>"
      ],
      "text/plain": [
       "           Date     Open     High      Low    Close  Adj.Close     Volume\n",
       "0    2016-12-01  2199.50  2203.00  2186.00  2192.00    2192.00  1960189.0\n",
       "1    2016-12-02  2190.50  2197.25  2184.25  2192.00    2192.00  2148721.0\n",
       "2    2016-12-04      NaN      NaN      NaN      NaN        NaN        NaN\n",
       "3    2016-12-05  2184.00  2208.75  2179.00  2204.25    2204.25  1682042.0\n",
       "4    2016-12-06  2205.00  2212.00  2200.25  2210.00    2210.00  1663731.0\n",
       "..          ...      ...      ...      ...      ...        ...        ...\n",
       "323  2017-12-24      NaN      NaN      NaN      NaN        NaN        NaN\n",
       "324  2017-12-26  2686.75  2689.50  2683.50  2687.00    2687.00   360430.0\n",
       "325  2017-12-27  2687.50  2691.00  2681.50  2685.50    2685.50   376101.0\n",
       "326  2017-12-28  2684.00  2689.00  2683.00  2685.75    2685.75   666329.0\n",
       "327  2017-12-29  2684.75  2698.25  2667.75  2676.00    2676.00   535624.0\n",
       "\n",
       "[328 rows x 7 columns]"
      ]
     },
     "execution_count": 5,
     "metadata": {},
     "output_type": "execute_result"
    }
   ],
   "source": [
    "dataBoursier"
   ]
  },
  {
   "cell_type": "code",
   "execution_count": 6,
   "metadata": {},
   "outputs": [
    {
     "name": "stdout",
     "output_type": "stream",
     "text": [
      "Date          0\n",
      "Open         58\n",
      "High         58\n",
      "Low          58\n",
      "Close        58\n",
      "Adj.Close    58\n",
      "Volume       58\n",
      "dtype: int64\n"
     ]
    }
   ],
   "source": [
    "#Nombre de valeur manquante dans les indice boursier\n",
    "print(len(dataBoursier) - dataBoursier.count())"
   ]
  },
  {
   "cell_type": "code",
   "execution_count": 7,
   "metadata": {},
   "outputs": [
    {
     "data": {
      "image/png": "[encoded data removed]",
      "text/plain": [
       "<Figure size 720x432 with 1 Axes>"
      ]
     },
     "metadata": {
      "needs_background": "light"
     },
     "output_type": "display_data"
    }
   ],
   "source": [
    "from pandas import read_csv\n",
    "from matplotlib import pyplot\n",
    "series = read_csv('data/ES=F.csv', header=0, index_col=0, parse_dates=True, squeeze=False)\n",
    "ser=series.head(50)\n",
    "\n",
    "series.plot(figsize=(10, 6),style='k-',linewidth=5, fontsize=20)\n",
    "pyplot.legend().set_visible(False)#Masquer la légende\n",
    "pyplot.show()"
   ]
  },
  {
   "cell_type": "code",
   "execution_count": 8,
   "metadata": {},
   "outputs": [],
   "source": [
    "#pretraitement des données \n",
    "# remplacement des valeurs manques par la dernière valeur non nulle de la serie \n",
    "dataBoursier=dataBoursier.fillna(method='ffill',inplace=False)"
   ]
  },
  {
   "cell_type": "code",
   "execution_count": 9,
   "metadata": {},
   "outputs": [
    {
     "data": {
      "text/html": [
       "<div>\n",
       "<style scoped>\n",
       "    .dataframe tbody tr th:only-of-type {\n",
       "        vertical-align: middle;\n",
       "    }\n",
       "\n",
       "    .dataframe tbody tr th {\n",
       "        vertical-align: top;\n",
       "    }\n",
       "\n",
       "    .dataframe thead th {\n",
       "        text-align: right;\n",
       "    }\n",
       "</style>\n",
       "<table border=\"1\" class=\"dataframe\">\n",
       "  <thead>\n",
       "    <tr style=\"text-align: right;\">\n",
       "      <th></th>\n",
       "      <th>Date</th>\n",
       "      <th>Open</th>\n",
       "      <th>High</th>\n",
       "      <th>Low</th>\n",
       "      <th>Close</th>\n",
       "      <th>Adj.Close</th>\n",
       "      <th>Volume</th>\n",
       "    </tr>\n",
       "  </thead>\n",
       "  <tbody>\n",
       "    <tr>\n",
       "      <td>0</td>\n",
       "      <td>2016-12-01</td>\n",
       "      <td>2199.50</td>\n",
       "      <td>2203.00</td>\n",
       "      <td>2186.00</td>\n",
       "      <td>2192.00</td>\n",
       "      <td>2192.00</td>\n",
       "      <td>1960189.0</td>\n",
       "    </tr>\n",
       "    <tr>\n",
       "      <td>1</td>\n",
       "      <td>2016-12-02</td>\n",
       "      <td>2190.50</td>\n",
       "      <td>2197.25</td>\n",
       "      <td>2184.25</td>\n",
       "      <td>2192.00</td>\n",
       "      <td>2192.00</td>\n",
       "      <td>2148721.0</td>\n",
       "    </tr>\n",
       "    <tr>\n",
       "      <td>2</td>\n",
       "      <td>2016-12-04</td>\n",
       "      <td>2190.50</td>\n",
       "      <td>2197.25</td>\n",
       "      <td>2184.25</td>\n",
       "      <td>2192.00</td>\n",
       "      <td>2192.00</td>\n",
       "      <td>2148721.0</td>\n",
       "    </tr>\n",
       "    <tr>\n",
       "      <td>3</td>\n",
       "      <td>2016-12-05</td>\n",
       "      <td>2184.00</td>\n",
       "      <td>2208.75</td>\n",
       "      <td>2179.00</td>\n",
       "      <td>2204.25</td>\n",
       "      <td>2204.25</td>\n",
       "      <td>1682042.0</td>\n",
       "    </tr>\n",
       "    <tr>\n",
       "      <td>4</td>\n",
       "      <td>2016-12-06</td>\n",
       "      <td>2205.00</td>\n",
       "      <td>2212.00</td>\n",
       "      <td>2200.25</td>\n",
       "      <td>2210.00</td>\n",
       "      <td>2210.00</td>\n",
       "      <td>1663731.0</td>\n",
       "    </tr>\n",
       "    <tr>\n",
       "      <td>...</td>\n",
       "      <td>...</td>\n",
       "      <td>...</td>\n",
       "      <td>...</td>\n",
       "      <td>...</td>\n",
       "      <td>...</td>\n",
       "      <td>...</td>\n",
       "      <td>...</td>\n",
       "    </tr>\n",
       "    <tr>\n",
       "      <td>323</td>\n",
       "      <td>2017-12-24</td>\n",
       "      <td>2686.75</td>\n",
       "      <td>2691.50</td>\n",
       "      <td>2682.25</td>\n",
       "      <td>2686.00</td>\n",
       "      <td>2686.00</td>\n",
       "      <td>853748.0</td>\n",
       "    </tr>\n",
       "    <tr>\n",
       "      <td>324</td>\n",
       "      <td>2017-12-26</td>\n",
       "      <td>2686.75</td>\n",
       "      <td>2689.50</td>\n",
       "      <td>2683.50</td>\n",
       "      <td>2687.00</td>\n",
       "      <td>2687.00</td>\n",
       "      <td>360430.0</td>\n",
       "    </tr>\n",
       "    <tr>\n",
       "      <td>325</td>\n",
       "      <td>2017-12-27</td>\n",
       "      <td>2687.50</td>\n",
       "      <td>2691.00</td>\n",
       "      <td>2681.50</td>\n",
       "      <td>2685.50</td>\n",
       "      <td>2685.50</td>\n",
       "      <td>376101.0</td>\n",
       "    </tr>\n",
       "    <tr>\n",
       "      <td>326</td>\n",
       "      <td>2017-12-28</td>\n",
       "      <td>2684.00</td>\n",
       "      <td>2689.00</td>\n",
       "      <td>2683.00</td>\n",
       "      <td>2685.75</td>\n",
       "      <td>2685.75</td>\n",
       "      <td>666329.0</td>\n",
       "    </tr>\n",
       "    <tr>\n",
       "      <td>327</td>\n",
       "      <td>2017-12-29</td>\n",
       "      <td>2684.75</td>\n",
       "      <td>2698.25</td>\n",
       "      <td>2667.75</td>\n",
       "      <td>2676.00</td>\n",
       "      <td>2676.00</td>\n",
       "      <td>535624.0</td>\n",
       "    </tr>\n",
       "  </tbody>\n",
       "</table>\n",
       "<p>328 rows × 7 columns</p>\n",
       "</div>"
      ],
      "text/plain": [
       "           Date     Open     High      Low    Close  Adj.Close     Volume\n",
       "0    2016-12-01  2199.50  2203.00  2186.00  2192.00    2192.00  1960189.0\n",
       "1    2016-12-02  2190.50  2197.25  2184.25  2192.00    2192.00  2148721.0\n",
       "2    2016-12-04  2190.50  2197.25  2184.25  2192.00    2192.00  2148721.0\n",
       "3    2016-12-05  2184.00  2208.75  2179.00  2204.25    2204.25  1682042.0\n",
       "4    2016-12-06  2205.00  2212.00  2200.25  2210.00    2210.00  1663731.0\n",
       "..          ...      ...      ...      ...      ...        ...        ...\n",
       "323  2017-12-24  2686.75  2691.50  2682.25  2686.00    2686.00   853748.0\n",
       "324  2017-12-26  2686.75  2689.50  2683.50  2687.00    2687.00   360430.0\n",
       "325  2017-12-27  2687.50  2691.00  2681.50  2685.50    2685.50   376101.0\n",
       "326  2017-12-28  2684.00  2689.00  2683.00  2685.75    2685.75   666329.0\n",
       "327  2017-12-29  2684.75  2698.25  2667.75  2676.00    2676.00   535624.0\n",
       "\n",
       "[328 rows x 7 columns]"
      ]
     },
     "execution_count": 9,
     "metadata": {},
     "output_type": "execute_result"
    }
   ],
   "source": [
    "dataBoursier"
   ]
  },
  {
   "cell_type": "code",
   "execution_count": 10,
   "metadata": {},
   "outputs": [],
   "source": [
    "a = pd.DatetimeIndex(dataBoursier.Date)"
   ]
  },
  {
   "cell_type": "code",
   "execution_count": 11,
   "metadata": {},
   "outputs": [],
   "source": [
    "import datetime as dt\n",
    "def timeserie(d):\n",
    "    return dt.datetime.strptime(dt.datetime.strftime(d, '%Y-%m-%d %H:%M:%S'), \"%Y-%m-%d %H:%M:%S\")"
   ]
  },
  {
   "cell_type": "code",
   "execution_count": 12,
   "metadata": {},
   "outputs": [],
   "source": [
    "b = list(map(timeserie, a))"
   ]
  },
  {
   "cell_type": "code",
   "execution_count": 13,
   "metadata": {},
   "outputs": [],
   "source": [
    "\n",
    "dataBoursier.Date = list(map(dt.datetime.toordinal, a))\n"
   ]
  },
  {
   "cell_type": "code",
   "execution_count": 14,
   "metadata": {},
   "outputs": [
    {
     "data": {
      "text/plain": [
       "0      736299\n",
       "1      736300\n",
       "2      736302\n",
       "3      736303\n",
       "4      736304\n",
       "        ...  \n",
       "323    736687\n",
       "324    736689\n",
       "325    736690\n",
       "326    736691\n",
       "327    736692\n",
       "Name: Date, Length: 328, dtype: int64"
      ]
     },
     "execution_count": 14,
     "metadata": {},
     "output_type": "execute_result"
    }
   ],
   "source": [
    "dataBoursier.Date"
   ]
  },
  {
   "cell_type": "code",
   "execution_count": 15,
   "metadata": {},
   "outputs": [
    {
     "data": {
      "text/plain": [
       "pandas.core.frame.DataFrame"
      ]
     },
     "execution_count": 15,
     "metadata": {},
     "output_type": "execute_result"
    }
   ],
   "source": [
    "#Division des données\n",
    "from sklearn.model_selection import train_test_split, learning_curve\n",
    "\n",
    "X = dataBoursier.drop(['Close'], axis=1)\n",
    "Y = dataBoursier.Close\n",
    "\n",
    "X_train, X_test, Y_train, Y_test = train_test_split(X, Y, test_size=0.2, random_state=0)\n",
    "\n",
    "type(X_train)"
   ]
  },
  {
   "cell_type": "markdown",
   "metadata": {},
   "source": [
    "# Prédiciton 1 (SVR) -- Support Vectore Regressor"
   ]
  },
  {
   "cell_type": "code",
   "execution_count": 16,
   "metadata": {},
   "outputs": [],
   "source": [
    "from sklearn.compose import make_column_selector, make_column_transformer\n",
    "from sklearn.pipeline import make_pipeline\n",
    "from sklearn.preprocessing import StandardScaler\n",
    "from sklearn.model_selection import GridSearchCV\n",
    "import numpy as np\n",
    "from sklearn.svm import SVR, SVC\n",
    "import matplotlib.pyplot as plt\n",
    "from sklearn.metrics import confusion_matrix\n",
    "from sklearn.impute import SimpleImputer"
   ]
  },
  {
   "cell_type": "code",
   "execution_count": 17,
   "metadata": {},
   "outputs": [
    {
     "data": {
      "text/plain": [
       "{'cv': 5,\n",
       " 'error_score': nan,\n",
       " 'estimator__memory': None,\n",
       " 'estimator__steps': [('columntransformer',\n",
       "   ColumnTransformer(transformers=[('pipeline',\n",
       "                                    Pipeline(steps=[('standardscaler',\n",
       "                                                     StandardScaler())]),\n",
       "                                    <sklearn.compose._column_transformer.make_column_selector object at 0x7f2d98b06ad0>)])),\n",
       "  ('svr', SVR())],\n",
       " 'estimator__verbose': False,\n",
       " 'estimator__columntransformer': ColumnTransformer(transformers=[('pipeline',\n",
       "                                  Pipeline(steps=[('standardscaler',\n",
       "                                                   StandardScaler())]),\n",
       "                                  <sklearn.compose._column_transformer.make_column_selector object at 0x7f2d98b06ad0>)]),\n",
       " 'estimator__svr': SVR(),\n",
       " 'estimator__columntransformer__n_jobs': None,\n",
       " 'estimator__columntransformer__remainder': 'drop',\n",
       " 'estimator__columntransformer__sparse_threshold': 0.3,\n",
       " 'estimator__columntransformer__transformer_weights': None,\n",
       " 'estimator__columntransformer__transformers': [('pipeline',\n",
       "   Pipeline(steps=[('standardscaler', StandardScaler())]),\n",
       "   <sklearn.compose._column_transformer.make_column_selector at 0x7f2d98b06ad0>)],\n",
       " 'estimator__columntransformer__verbose': False,\n",
       " 'estimator__columntransformer__pipeline': Pipeline(steps=[('standardscaler', StandardScaler())]),\n",
       " 'estimator__columntransformer__pipeline__memory': None,\n",
       " 'estimator__columntransformer__pipeline__steps': [('standardscaler',\n",
       "   StandardScaler())],\n",
       " 'estimator__columntransformer__pipeline__verbose': False,\n",
       " 'estimator__columntransformer__pipeline__standardscaler': StandardScaler(),\n",
       " 'estimator__columntransformer__pipeline__standardscaler__copy': True,\n",
       " 'estimator__columntransformer__pipeline__standardscaler__with_mean': True,\n",
       " 'estimator__columntransformer__pipeline__standardscaler__with_std': True,\n",
       " 'estimator__svr__C': 1.0,\n",
       " 'estimator__svr__cache_size': 200,\n",
       " 'estimator__svr__coef0': 0.0,\n",
       " 'estimator__svr__degree': 3,\n",
       " 'estimator__svr__epsilon': 0.1,\n",
       " 'estimator__svr__gamma': 'scale',\n",
       " 'estimator__svr__kernel': 'rbf',\n",
       " 'estimator__svr__max_iter': -1,\n",
       " 'estimator__svr__shrinking': True,\n",
       " 'estimator__svr__tol': 0.001,\n",
       " 'estimator__svr__verbose': False,\n",
       " 'estimator': Pipeline(steps=[('columntransformer',\n",
       "                  ColumnTransformer(transformers=[('pipeline',\n",
       "                                                   Pipeline(steps=[('standardscaler',\n",
       "                                                                    StandardScaler())]),\n",
       "                                                   <sklearn.compose._column_transformer.make_column_selector object at 0x7f2d98b06ad0>)])),\n",
       "                 ('svr', SVR())]),\n",
       " 'iid': 'deprecated',\n",
       " 'n_jobs': None,\n",
       " 'param_grid': {'svr__kernel': ['rbf', 'linear'],\n",
       "  'svr__gamma': ['scale', 'auto']},\n",
       " 'pre_dispatch': '2*n_jobs',\n",
       " 'refit': True,\n",
       " 'return_train_score': False,\n",
       " 'scoring': None,\n",
       " 'verbose': 0}"
      ]
     },
     "execution_count": 17,
     "metadata": {},
     "output_type": "execute_result"
    }
   ],
   "source": [
    "# On crée le pipeline\n",
    "num_vars = make_column_selector(dtype_include=np.number)\n",
    "numerical_pipeline = make_pipeline(StandardScaler())\n",
    "\n",
    "preprocessor = make_column_transformer((numerical_pipeline, num_vars))\n",
    "\n",
    "model_svr = make_pipeline(preprocessor, SVR())\n",
    "\n",
    "params = {'svr__kernel': ['rbf', 'linear'],\n",
    "         'svr__gamma': ['scale', 'auto']}\n",
    "\n",
    "grid_svr = GridSearchCV(model_svr, params, cv=5)\n",
    "\n",
    "grid_svr.get_params()"
   ]
  },
  {
   "cell_type": "code",
   "execution_count": 18,
   "metadata": {},
   "outputs": [
    {
     "data": {
      "text/plain": [
       "GridSearchCV(cv=5,\n",
       "             estimator=Pipeline(steps=[('columntransformer',\n",
       "                                        ColumnTransformer(transformers=[('pipeline',\n",
       "                                                                         Pipeline(steps=[('standardscaler',\n",
       "                                                                                          StandardScaler())]),\n",
       "                                                                         <sklearn.compose._column_transformer.make_column_selector object at 0x7f2d98b06ad0>)])),\n",
       "                                       ('svr', SVR())]),\n",
       "             param_grid={'svr__gamma': ['scale', 'auto'],\n",
       "                         'svr__kernel': ['rbf', 'linear']})"
      ]
     },
     "execution_count": 18,
     "metadata": {},
     "output_type": "execute_result"
    }
   ],
   "source": [
    "grid_svr.fit(X_train, Y_train)"
   ]
  },
  {
   "cell_type": "code",
   "execution_count": 19,
   "metadata": {},
   "outputs": [
    {
     "data": {
      "text/plain": [
       "{'svr__gamma': 'scale', 'svr__kernel': 'linear'}"
      ]
     },
     "execution_count": 19,
     "metadata": {},
     "output_type": "execute_result"
    }
   ],
   "source": [
    "grid_svr.best_params_"
   ]
  },
  {
   "cell_type": "code",
   "execution_count": 20,
   "metadata": {},
   "outputs": [
    {
     "data": {
      "text/plain": [
       "0.998364352131252"
      ]
     },
     "execution_count": 20,
     "metadata": {},
     "output_type": "execute_result"
    }
   ],
   "source": [
    "grid_svr.best_score_"
   ]
  },
  {
   "cell_type": "code",
   "execution_count": 21,
   "metadata": {},
   "outputs": [
    {
     "data": {
      "text/plain": [
       "0.9982793941419199"
      ]
     },
     "execution_count": 21,
     "metadata": {},
     "output_type": "execute_result"
    }
   ],
   "source": [
    "grid_svr.score(X_test, Y_test)"
   ]
  },
  {
   "cell_type": "code",
   "execution_count": 22,
   "metadata": {},
   "outputs": [],
   "source": [
    "model_svr_best = grid_svr.best_estimator_"
   ]
  },
  {
   "cell_type": "code",
   "execution_count": 23,
   "metadata": {},
   "outputs": [
    {
     "data": {
      "text/plain": [
       "Text(0, 0.5, 'Précision du model')"
      ]
     },
     "execution_count": 23,
     "metadata": {},
     "output_type": "execute_result"
    },
    {
     "data": {
      "image/png": "[encoded data removed]",
      "text/plain": [
       "<Figure size 432x288 with 1 Axes>"
      ]
     },
     "metadata": {
      "needs_background": "light"
     },
     "output_type": "display_data"
    }
   ],
   "source": [
    "val1 = []\n",
    "val2= []\n",
    "for i in range(10, 70, 5):\n",
    "    X_train_svr, X_test_svr, Y_train_svr, Y_test_svr = train_test_split(X, Y, test_size=i/100, random_state=0)\n",
    "    val1.append('{}%'.format(i))\n",
    "    model_svr_best.fit(X_train_svr, Y_train_svr)\n",
    "    val2.append(model_svr_best.score(X_test_svr, Y_test_svr))\n",
    "\n",
    "plt.plot(val1, val2)\n",
    "plt.title(\"Données Brutes - SVR\\n Recherche du meilleur découpage de données\")\n",
    "plt.xlabel(\"Pourcentage des données de test\")\n",
    "plt.ylabel(\"Précision du model\")"
   ]
  },
  {
   "cell_type": "code",
   "execution_count": 24,
   "metadata": {},
   "outputs": [],
   "source": [
    "X_train_svr, X_test_svr, Y_train_svr, Y_test_svr = train_test_split(X, Y, test_size=25/100, random_state=0)"
   ]
  },
  {
   "cell_type": "code",
   "execution_count": 25,
   "metadata": {},
   "outputs": [
    {
     "data": {
      "text/plain": [
       "Pipeline(steps=[('columntransformer',\n",
       "                 ColumnTransformer(transformers=[('pipeline',\n",
       "                                                  Pipeline(steps=[('standardscaler',\n",
       "                                                                   StandardScaler())]),\n",
       "                                                  <sklearn.compose._column_transformer.make_column_selector object at 0x7f2d98b1a610>)])),\n",
       "                ('svr', SVR(kernel='linear'))])"
      ]
     },
     "execution_count": 25,
     "metadata": {},
     "output_type": "execute_result"
    }
   ],
   "source": [
    "model_svr_best.fit(X_train_svr, Y_train_svr)"
   ]
  },
  {
   "cell_type": "code",
   "execution_count": 26,
   "metadata": {},
   "outputs": [
    {
     "data": {
      "text/plain": [
       "0.9984221155715829"
      ]
     },
     "execution_count": 26,
     "metadata": {},
     "output_type": "execute_result"
    }
   ],
   "source": [
    "model_svr_best.score(X_test_svr, Y_test_svr)"
   ]
  },
  {
   "cell_type": "code",
   "execution_count": 27,
   "metadata": {},
   "outputs": [],
   "source": [
    "N_svr, train_score_svr, val_score_svr = learning_curve(model_svr_best, X_train_svr, Y_train_svr, train_sizes=np.linspace(0.2, 1, 10))"
   ]
  },
  {
   "cell_type": "code",
   "execution_count": 28,
   "metadata": {},
   "outputs": [
    {
     "data": {
      "text/plain": [
       "<matplotlib.legend.Legend at 0x7f2d988a5f10>"
      ]
     },
     "execution_count": 28,
     "metadata": {},
     "output_type": "execute_result"
    },
    {
     "data": {
      "image/png": "[encoded data removed]",
      "text/plain": [
       "<Figure size 432x288 with 1 Axes>"
      ]
     },
     "metadata": {
      "needs_background": "light"
     },
     "output_type": "display_data"
    }
   ],
   "source": [
    "plt.plot(N_svr, train_score_svr.mean(axis=1), label='train')\n",
    "plt.plot(N_svr, val_score_svr.mean(axis=1), label='validation')\n",
    "plt.xlabel('taille des données d\\'entrainement')\n",
    "plt.ylim(0.9, 1)\n",
    "plt.title('Données Brutes - SVR\\n Performance du model')\n",
    "plt.legend()"
   ]
  },
  {
   "cell_type": "markdown",
   "metadata": {},
   "source": [
    "# Prédiction 2 - Regression linéaire"
   ]
  },
  {
   "cell_type": "code",
   "execution_count": 29,
   "metadata": {},
   "outputs": [],
   "source": [
    "from sklearn.linear_model import LinearRegression"
   ]
  },
  {
   "cell_type": "code",
   "execution_count": 30,
   "metadata": {},
   "outputs": [
    {
     "data": {
      "text/plain": [
       "{'cv': 5,\n",
       " 'error_score': nan,\n",
       " 'estimator__memory': None,\n",
       " 'estimator__steps': [('columntransformer',\n",
       "   ColumnTransformer(transformers=[('pipeline',\n",
       "                                    Pipeline(steps=[('standardscaler',\n",
       "                                                     StandardScaler())]),\n",
       "                                    <sklearn.compose._column_transformer.make_column_selector object at 0x7f2d987d3cd0>)])),\n",
       "  ('linearregression', LinearRegression())],\n",
       " 'estimator__verbose': False,\n",
       " 'estimator__columntransformer': ColumnTransformer(transformers=[('pipeline',\n",
       "                                  Pipeline(steps=[('standardscaler',\n",
       "                                                   StandardScaler())]),\n",
       "                                  <sklearn.compose._column_transformer.make_column_selector object at 0x7f2d987d3cd0>)]),\n",
       " 'estimator__linearregression': LinearRegression(),\n",
       " 'estimator__columntransformer__n_jobs': None,\n",
       " 'estimator__columntransformer__remainder': 'drop',\n",
       " 'estimator__columntransformer__sparse_threshold': 0.3,\n",
       " 'estimator__columntransformer__transformer_weights': None,\n",
       " 'estimator__columntransformer__transformers': [('pipeline',\n",
       "   Pipeline(steps=[('standardscaler', StandardScaler())]),\n",
       "   <sklearn.compose._column_transformer.make_column_selector at 0x7f2d987d3cd0>)],\n",
       " 'estimator__columntransformer__verbose': False,\n",
       " 'estimator__columntransformer__pipeline': Pipeline(steps=[('standardscaler', StandardScaler())]),\n",
       " 'estimator__columntransformer__pipeline__memory': None,\n",
       " 'estimator__columntransformer__pipeline__steps': [('standardscaler',\n",
       "   StandardScaler())],\n",
       " 'estimator__columntransformer__pipeline__verbose': False,\n",
       " 'estimator__columntransformer__pipeline__standardscaler': StandardScaler(),\n",
       " 'estimator__columntransformer__pipeline__standardscaler__copy': True,\n",
       " 'estimator__columntransformer__pipeline__standardscaler__with_mean': True,\n",
       " 'estimator__columntransformer__pipeline__standardscaler__with_std': True,\n",
       " 'estimator__linearregression__copy_X': True,\n",
       " 'estimator__linearregression__fit_intercept': True,\n",
       " 'estimator__linearregression__n_jobs': None,\n",
       " 'estimator__linearregression__normalize': False,\n",
       " 'estimator': Pipeline(steps=[('columntransformer',\n",
       "                  ColumnTransformer(transformers=[('pipeline',\n",
       "                                                   Pipeline(steps=[('standardscaler',\n",
       "                                                                    StandardScaler())]),\n",
       "                                                   <sklearn.compose._column_transformer.make_column_selector object at 0x7f2d987d3cd0>)])),\n",
       "                 ('linearregression', LinearRegression())]),\n",
       " 'iid': 'deprecated',\n",
       " 'n_jobs': None,\n",
       " 'param_grid': {'linearregression__copy_X': [True, False]},\n",
       " 'pre_dispatch': '2*n_jobs',\n",
       " 'refit': True,\n",
       " 'return_train_score': False,\n",
       " 'scoring': None,\n",
       " 'verbose': 0}"
      ]
     },
     "execution_count": 30,
     "metadata": {},
     "output_type": "execute_result"
    }
   ],
   "source": [
    "# On crée le pipeline\n",
    "num_vars = make_column_selector(dtype_include=np.number)\n",
    "numerical_pipeline = make_pipeline(StandardScaler())\n",
    "\n",
    "preprocessor = make_column_transformer((numerical_pipeline, num_vars))\n",
    "\n",
    "model_lin = make_pipeline(preprocessor, LinearRegression())\n",
    "\n",
    "params = {'linearregression__copy_X': [True, False]}\n",
    "\n",
    "grid_lin = GridSearchCV(model_lin, params, cv=5)\n",
    "\n",
    "grid_lin.get_params()"
   ]
  },
  {
   "cell_type": "code",
   "execution_count": 31,
   "metadata": {},
   "outputs": [
    {
     "data": {
      "text/plain": [
       "GridSearchCV(cv=5,\n",
       "             estimator=Pipeline(steps=[('columntransformer',\n",
       "                                        ColumnTransformer(transformers=[('pipeline',\n",
       "                                                                         Pipeline(steps=[('standardscaler',\n",
       "                                                                                          StandardScaler())]),\n",
       "                                                                         <sklearn.compose._column_transformer.make_column_selector object at 0x7f2d987d3cd0>)])),\n",
       "                                       ('linearregression',\n",
       "                                        LinearRegression())]),\n",
       "             param_grid={'linearregression__copy_X': [True, False]})"
      ]
     },
     "execution_count": 31,
     "metadata": {},
     "output_type": "execute_result"
    }
   ],
   "source": [
    "grid_lin.fit(X_train, Y_train)"
   ]
  },
  {
   "cell_type": "code",
   "execution_count": 32,
   "metadata": {},
   "outputs": [
    {
     "data": {
      "text/plain": [
       "{'linearregression__copy_X': True}"
      ]
     },
     "execution_count": 32,
     "metadata": {},
     "output_type": "execute_result"
    }
   ],
   "source": [
    "grid_lin.best_params_"
   ]
  },
  {
   "cell_type": "code",
   "execution_count": 33,
   "metadata": {},
   "outputs": [
    {
     "data": {
      "text/plain": [
       "1.0"
      ]
     },
     "execution_count": 33,
     "metadata": {},
     "output_type": "execute_result"
    }
   ],
   "source": [
    "grid_lin.best_score_"
   ]
  },
  {
   "cell_type": "code",
   "execution_count": 34,
   "metadata": {},
   "outputs": [
    {
     "data": {
      "text/plain": [
       "1.0"
      ]
     },
     "execution_count": 34,
     "metadata": {},
     "output_type": "execute_result"
    }
   ],
   "source": [
    "grid_lin.score(X_test, Y_test)"
   ]
  },
  {
   "cell_type": "code",
   "execution_count": 35,
   "metadata": {},
   "outputs": [],
   "source": [
    "model_lin_best = grid_lin.best_estimator_"
   ]
  },
  {
   "cell_type": "code",
   "execution_count": 36,
   "metadata": {},
   "outputs": [
    {
     "data": {
      "text/plain": [
       "Text(0, 0.5, 'Précision du model')"
      ]
     },
     "execution_count": 36,
     "metadata": {},
     "output_type": "execute_result"
    },
    {
     "data": {
      "image/png": "[encoded data removed]",
      "text/plain": [
       "<Figure size 432x288 with 1 Axes>"
      ]
     },
     "metadata": {
      "needs_background": "light"
     },
     "output_type": "display_data"
    }
   ],
   "source": [
    "val1 = []\n",
    "val2= []\n",
    "for i in range(10, 70, 5):\n",
    "    X_train_lin, X_test_lin, Y_train_lin, Y_test_lin = train_test_split(X, Y, test_size=i/100, random_state=0)\n",
    "    val1.append('{}%'.format(i))\n",
    "    model_lin_best.fit(X_train_lin, Y_train_lin)\n",
    "    val2.append(model_lin_best.score(X_test_lin, Y_test_lin))\n",
    "\n",
    "plt.plot(val1, val2)\n",
    "plt.title(\"Données Brutes - RL\\n Recherche du meilleur découpage de données\")\n",
    "plt.xlabel(\"Pourcentage des données de test\")\n",
    "plt.ylabel(\"Précision du model\")"
   ]
  },
  {
   "cell_type": "code",
   "execution_count": 37,
   "metadata": {},
   "outputs": [],
   "source": [
    "X_train_lin, X_test_lin, Y_train_lin, Y_test_lin = train_test_split(X, Y, test_size=25/100, random_state=0)"
   ]
  },
  {
   "cell_type": "code",
   "execution_count": 38,
   "metadata": {},
   "outputs": [],
   "source": [
    "N_lin, train_score_lin, val_score_lin = learning_curve(model_lin_best, X_train_lin, Y_train_lin, train_sizes=np.linspace(0.2, 1, 10))"
   ]
  },
  {
   "cell_type": "code",
   "execution_count": 39,
   "metadata": {},
   "outputs": [
    {
     "name": "stderr",
     "output_type": "stream",
     "text": [
      "/home/jeremie/anaconda3/lib/python3.7/site-packages/ipykernel_launcher.py:5: UserWarning: Attempting to set identical bottom == top == 1 results in singular transformations; automatically expanding.\n",
      "  \"\"\"\n"
     ]
    },
    {
     "data": {
      "text/plain": [
       "<matplotlib.legend.Legend at 0x7f2d97f01090>"
      ]
     },
     "execution_count": 39,
     "metadata": {},
     "output_type": "execute_result"
    },
    {
     "data": {
      "image/png": "[encoded data removed]",
      "text/plain": [
       "<Figure size 432x288 with 1 Axes>"
      ]
     },
     "metadata": {
      "needs_background": "light"
     },
     "output_type": "display_data"
    }
   ],
   "source": [
    "plt.plot(N_lin, train_score_lin.mean(axis=1), label='train')\n",
    "plt.plot(N_lin, val_score_lin.mean(axis=1), label='validation')\n",
    "plt.xlabel('taille des données d\\'entrainement')\n",
    "plt.title('Données Brutes - RL\\n Performance du model')\n",
    "plt.ylim(1, 1)\n",
    "plt.legend()"
   ]
  },
  {
   "cell_type": "markdown",
   "metadata": {},
   "source": [
    "# Prédiction 3 - algorithme de KNN"
   ]
  },
  {
   "cell_type": "code",
   "execution_count": 40,
   "metadata": {},
   "outputs": [],
   "source": [
    "from sklearn.neighbors import KNeighborsRegressor as KNN\n"
   ]
  },
  {
   "cell_type": "code",
   "execution_count": 41,
   "metadata": {},
   "outputs": [
    {
     "data": {
      "text/plain": [
       "{'cv': 5,\n",
       " 'error_score': nan,\n",
       " 'estimator__memory': None,\n",
       " 'estimator__steps': [('columntransformer',\n",
       "   ColumnTransformer(transformers=[('pipeline',\n",
       "                                    Pipeline(steps=[('standardscaler',\n",
       "                                                     StandardScaler())]),\n",
       "                                    <sklearn.compose._column_transformer.make_column_selector object at 0x7f2d97ec4310>)])),\n",
       "  ('kneighborsregressor', KNeighborsRegressor())],\n",
       " 'estimator__verbose': False,\n",
       " 'estimator__columntransformer': ColumnTransformer(transformers=[('pipeline',\n",
       "                                  Pipeline(steps=[('standardscaler',\n",
       "                                                   StandardScaler())]),\n",
       "                                  <sklearn.compose._column_transformer.make_column_selector object at 0x7f2d97ec4310>)]),\n",
       " 'estimator__kneighborsregressor': KNeighborsRegressor(),\n",
       " 'estimator__columntransformer__n_jobs': None,\n",
       " 'estimator__columntransformer__remainder': 'drop',\n",
       " 'estimator__columntransformer__sparse_threshold': 0.3,\n",
       " 'estimator__columntransformer__transformer_weights': None,\n",
       " 'estimator__columntransformer__transformers': [('pipeline',\n",
       "   Pipeline(steps=[('standardscaler', StandardScaler())]),\n",
       "   <sklearn.compose._column_transformer.make_column_selector at 0x7f2d97ec4310>)],\n",
       " 'estimator__columntransformer__verbose': False,\n",
       " 'estimator__columntransformer__pipeline': Pipeline(steps=[('standardscaler', StandardScaler())]),\n",
       " 'estimator__columntransformer__pipeline__memory': None,\n",
       " 'estimator__columntransformer__pipeline__steps': [('standardscaler',\n",
       "   StandardScaler())],\n",
       " 'estimator__columntransformer__pipeline__verbose': False,\n",
       " 'estimator__columntransformer__pipeline__standardscaler': StandardScaler(),\n",
       " 'estimator__columntransformer__pipeline__standardscaler__copy': True,\n",
       " 'estimator__columntransformer__pipeline__standardscaler__with_mean': True,\n",
       " 'estimator__columntransformer__pipeline__standardscaler__with_std': True,\n",
       " 'estimator__kneighborsregressor__algorithm': 'auto',\n",
       " 'estimator__kneighborsregressor__leaf_size': 30,\n",
       " 'estimator__kneighborsregressor__metric': 'minkowski',\n",
       " 'estimator__kneighborsregressor__metric_params': None,\n",
       " 'estimator__kneighborsregressor__n_jobs': None,\n",
       " 'estimator__kneighborsregressor__n_neighbors': 5,\n",
       " 'estimator__kneighborsregressor__p': 2,\n",
       " 'estimator__kneighborsregressor__weights': 'uniform',\n",
       " 'estimator': Pipeline(steps=[('columntransformer',\n",
       "                  ColumnTransformer(transformers=[('pipeline',\n",
       "                                                   Pipeline(steps=[('standardscaler',\n",
       "                                                                    StandardScaler())]),\n",
       "                                                   <sklearn.compose._column_transformer.make_column_selector object at 0x7f2d97ec4310>)])),\n",
       "                 ('kneighborsregressor', KNeighborsRegressor())]),\n",
       " 'iid': 'deprecated',\n",
       " 'n_jobs': None,\n",
       " 'param_grid': {'kneighborsregressor__algorithm': ['auto',\n",
       "   'ball_tree',\n",
       "   'kd_tree',\n",
       "   'brute']},\n",
       " 'pre_dispatch': '2*n_jobs',\n",
       " 'refit': True,\n",
       " 'return_train_score': False,\n",
       " 'scoring': None,\n",
       " 'verbose': 0}"
      ]
     },
     "execution_count": 41,
     "metadata": {},
     "output_type": "execute_result"
    }
   ],
   "source": [
    "# On crée le pipeline\n",
    "num_vars = make_column_selector(dtype_include=np.number)\n",
    "numerical_pipeline = make_pipeline(StandardScaler())\n",
    "\n",
    "preprocessor = make_column_transformer((numerical_pipeline, num_vars))\n",
    "\n",
    "model_knn = make_pipeline(preprocessor, KNN())\n",
    "\n",
    "params = {'kneighborsregressor__algorithm': ['auto', 'ball_tree', 'kd_tree', 'brute']}\n",
    "\n",
    "grid_knn = GridSearchCV(model_knn, params, cv=5)\n",
    "\n",
    "grid_knn.get_params()"
   ]
  },
  {
   "cell_type": "code",
   "execution_count": 42,
   "metadata": {},
   "outputs": [
    {
     "data": {
      "text/plain": [
       "GridSearchCV(cv=5,\n",
       "             estimator=Pipeline(steps=[('columntransformer',\n",
       "                                        ColumnTransformer(transformers=[('pipeline',\n",
       "                                                                         Pipeline(steps=[('standardscaler',\n",
       "                                                                                          StandardScaler())]),\n",
       "                                                                         <sklearn.compose._column_transformer.make_column_selector object at 0x7f2d97ec4310>)])),\n",
       "                                       ('kneighborsregressor',\n",
       "                                        KNeighborsRegressor())]),\n",
       "             param_grid={'kneighborsregressor__algorithm': ['auto', 'ball_tree',\n",
       "                                                            'kd_tree',\n",
       "                                                            'brute']})"
      ]
     },
     "execution_count": 42,
     "metadata": {},
     "output_type": "execute_result"
    }
   ],
   "source": [
    "grid_knn.fit(X_train, Y_train)"
   ]
  },
  {
   "cell_type": "code",
   "execution_count": 43,
   "metadata": {},
   "outputs": [
    {
     "data": {
      "text/plain": [
       "{'kneighborsregressor__algorithm': 'auto'}"
      ]
     },
     "execution_count": 43,
     "metadata": {},
     "output_type": "execute_result"
    }
   ],
   "source": [
    "grid_knn.best_params_"
   ]
  },
  {
   "cell_type": "code",
   "execution_count": 44,
   "metadata": {},
   "outputs": [
    {
     "data": {
      "text/plain": [
       "0.9918241500883933"
      ]
     },
     "execution_count": 44,
     "metadata": {},
     "output_type": "execute_result"
    }
   ],
   "source": [
    "grid_knn.best_score_"
   ]
  },
  {
   "cell_type": "code",
   "execution_count": 45,
   "metadata": {},
   "outputs": [
    {
     "data": {
      "text/plain": [
       "0.9925810869491545"
      ]
     },
     "execution_count": 45,
     "metadata": {},
     "output_type": "execute_result"
    }
   ],
   "source": [
    "grid_knn.score(X_test,Y_test)"
   ]
  },
  {
   "cell_type": "code",
   "execution_count": 46,
   "metadata": {},
   "outputs": [],
   "source": [
    "model_knn_best = grid_knn.best_estimator_"
   ]
  },
  {
   "cell_type": "code",
   "execution_count": 47,
   "metadata": {},
   "outputs": [
    {
     "data": {
      "text/plain": [
       "Text(0, 0.5, 'Précision du model')"
      ]
     },
     "execution_count": 47,
     "metadata": {},
     "output_type": "execute_result"
    },
    {
     "data": {
      "image/png": "[encoded data removed]",
      "text/plain": [
       "<Figure size 432x288 with 1 Axes>"
      ]
     },
     "metadata": {
      "needs_background": "light"
     },
     "output_type": "display_data"
    }
   ],
   "source": [
    "val1 = []\n",
    "val2= []\n",
    "\n",
    "for i in range(10, 70, 5):\n",
    "    X_train_knn, X_test_knn, Y_train_knn, Y_test_knn = train_test_split(X, Y, test_size=i/100, random_state=0)\n",
    "    val1.append('{}%'.format(i))\n",
    "    model_knn_best.fit(X_train_knn, Y_train_knn)\n",
    "    val2.append(model_knn_best.score(X_test_knn, Y_test_knn))\n",
    "\n",
    "plt.plot(val1, val2)\n",
    "plt.title(\"Données Brutes - KNN\\n Recherche du meilleur découpage de données\")\n",
    "plt.xlabel(\"Pourcentage des données de test\")\n",
    "plt.ylabel(\"Précision du model\")"
   ]
  },
  {
   "cell_type": "code",
   "execution_count": 48,
   "metadata": {},
   "outputs": [],
   "source": [
    "#35% pour un bon score"
   ]
  },
  {
   "cell_type": "code",
   "execution_count": 49,
   "metadata": {},
   "outputs": [],
   "source": [
    "X_train_knn, X_test_knn, Y_train_knn, Y_test_knn = train_test_split(X, Y, test_size=25/100, random_state=0)"
   ]
  },
  {
   "cell_type": "code",
   "execution_count": 50,
   "metadata": {},
   "outputs": [
    {
     "data": {
      "text/plain": [
       "Pipeline(steps=[('columntransformer',\n",
       "                 ColumnTransformer(transformers=[('pipeline',\n",
       "                                                  Pipeline(steps=[('standardscaler',\n",
       "                                                                   StandardScaler())]),\n",
       "                                                  <sklearn.compose._column_transformer.make_column_selector object at 0x7f2d97ec97d0>)])),\n",
       "                ('kneighborsregressor', KNeighborsRegressor())])"
      ]
     },
     "execution_count": 50,
     "metadata": {},
     "output_type": "execute_result"
    }
   ],
   "source": [
    "model_knn_best.fit(X_train_knn, Y_train_knn)"
   ]
  },
  {
   "cell_type": "code",
   "execution_count": 51,
   "metadata": {},
   "outputs": [
    {
     "data": {
      "text/plain": [
       "0.9940437477725849"
      ]
     },
     "execution_count": 51,
     "metadata": {},
     "output_type": "execute_result"
    }
   ],
   "source": [
    "model_knn_best.score(X_test_knn, Y_test_knn)"
   ]
  },
  {
   "cell_type": "code",
   "execution_count": 52,
   "metadata": {},
   "outputs": [],
   "source": [
    "N_knn, train_score_knn, val_score_knn = learning_curve(model_knn_best, X_train_knn, Y_train_knn, train_sizes=np.linspace(0.2, 1, 10))"
   ]
  },
  {
   "cell_type": "code",
   "execution_count": 53,
   "metadata": {},
   "outputs": [
    {
     "data": {
      "text/plain": [
       "<matplotlib.legend.Legend at 0x7f2d975bf890>"
      ]
     },
     "execution_count": 53,
     "metadata": {},
     "output_type": "execute_result"
    },
    {
     "data": {
      "image/png": "[encoded data removed]",
      "text/plain": [
       "<Figure size 432x288 with 1 Axes>"
      ]
     },
     "metadata": {
      "needs_background": "light"
     },
     "output_type": "display_data"
    }
   ],
   "source": [
    "plt.plot(N_knn, train_score_knn.mean(axis=1), label='train')\n",
    "plt.plot(N_knn, val_score_knn.mean(axis=1), label='validation')\n",
    "plt.xlabel('taille des données d\\'entrainement')\n",
    "plt.ylim(0.9, 1)\n",
    "plt.title('Données Brutes - KNN\\n Performance du model')\n",
    "plt.legend()"
   ]
  }
 ],
 "metadata": {
  "kernelspec": {
   "display_name": "Python 3",
   "language": "python",
   "name": "python3"
  },
  "language_info": {
   "codemirror_mode": {
    "name": "ipython",
    "version": 3
   },
   "file_extension": ".py",
   "mimetype": "text/x-python",
   "name": "python",
   "nbconvert_exporter": "python",
   "pygments_lexer": "ipython3",
   "version": "3.7.4"
  }
 },
 "nbformat": 4,
 "nbformat_minor": 2
}
